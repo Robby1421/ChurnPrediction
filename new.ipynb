# 📦 Step 1: Imports
import pandas as pd
import numpy as np
import matplotlib.pyplot as plt
from sklearn.preprocessing import StandardScaler
from sklearn.cluster import KMeans

# 📥 Step 2: Load your dataset
df = pd.read_csv("ip_mail_data.csv")  # Replace with your actual file path

# 🧮 Step 3: Feature engineering
df['subj_per_mail'] = df['n_proc_subj'] / df['n_mails']
df['msgid_per_mail'] = df['n_msg_id'] / df['n_mails']

# ⚖️ Step 4: Normalize features
features = ['n_mails', 'n_proc_subj', 'n_msg_id', 'subj_per_mail', 'msgid_per_mail']
X = df[features].fillna(0)
scaler = StandardScaler()
X_scaled = scaler.fit_transform(X)

# 📊 Step 5: KMeans clustering
kmeans = KMeans(n_clusters=3, random_state=42)
df['cluster'] = kmeans.fit_predict(X_scaled)

# 🏷️ Step 5.1: Assign descriptive labels to clusters
# You can adjust these labels based on actual cluster profiles
cluster_labels = {
    0: 'High Volume, Low Diversity',
    1: 'Low Volume, High Diversity',
    2: 'Moderate Volume, Balanced'
}
df['cluster_label'] = df['cluster'].map(cluster_labels)

# 🕸️ Step 6: Generate radar chart for each cluster (raw features only)
raw_features = ['n_mails', 'n_proc_subj', 'n_msg_id']
cluster_means_raw = df.groupby('cluster')[raw_features].mean()
normalized_raw = (cluster_means_raw - cluster_means_raw.min()) / (cluster_means_raw.max() - cluster_means_raw.min())

labels = raw_features
num_vars = len(labels)
angles = np.linspace(0, 2 * np.pi, num_vars, endpoint=False).tolist()
angles += angles[:1]  # close the loop

# 🎨 Step 7: Plot each cluster separately
for i, row in normalized_raw.iterrows():
    values = row.tolist()
    values += values[:1]

    fig, ax = plt.subplots(figsize=(6, 6), subplot_kw=dict(polar=True))
    ax.plot(angles, values, label=f'Cluster {i}: {cluster_labels[i]}', color='tab:blue')
    ax.fill(angles, values, alpha=0.25, color='tab:blue')

    ax.set_theta_offset(np.pi / 2)
    ax.set_theta_direction(-1)
    ax.set_thetagrids(np.degrees(angles[:-1]), labels)
    ax.set_title(f"Radar Chart for Cluster {i}", fontsize=14)
    ax.legend(loc='upper right')
    plt.tight_layout()
    plt.show()
