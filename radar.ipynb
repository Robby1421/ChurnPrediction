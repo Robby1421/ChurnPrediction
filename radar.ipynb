{
 "cells": [
  {
   "cell_type": "code",
   "execution_count": null,
   "id": "92446217",
   "metadata": {
    "vscode": {
     "languageId": "plaintext"
    }
   },
   "outputs": [],
   "source": [
    "# 📦 Imports\n",
    "import pandas as pd\n",
    "import numpy as np\n",
    "import matplotlib.pyplot as plt\n",
    "\n",
    "# ✅ Sample assumption: df already exists and contains these columns\n",
    "# ['cluster', 'n_mails', 'n_proc_subj', 'n_msg_id', 'subj_per_mail', 'msgid_per_mail']\n",
    "\n",
    "# 📊 Step 1: Group by cluster and compute mean feature values\n",
    "features = ['n_mails', 'n_proc_subj', 'n_msg_id', 'subj_per_mail', 'msgid_per_mail']\n",
    "cluster_means = df.groupby('cluster')[features].mean()\n",
    "\n",
    "# ⚖️ Step 2: Normalize values between 0 and 1\n",
    "normalized = (cluster_means - cluster_means.min()) / (cluster_means.max() - cluster_means.min())\n",
    "\n",
    "# 🕸️ Step 3: Prepare radar chart\n",
    "labels = features\n",
    "num_vars = len(labels)\n",
    "angles = np.linspace(0, 2 * np.pi, num_vars, endpoint=False).tolist()\n",
    "angles += angles[:1]  # close the loop\n",
    "\n",
    "# 🎨 Step 4: Plot each cluster\n",
    "fig, ax = plt.subplots(figsize=(6, 6), subplot_kw=dict(polar=True))\n",
    "\n",
    "for i, row in normalized.iterrows():\n",
    "    values = row.tolist()\n",
    "    values += values[:1]  # close the loop\n",
    "    ax.plot(angles, values, label=f'Cluster {i}')\n",
    "    ax.fill(angles, values, alpha=0.25)\n",
    "\n",
    "# 🧼 Step 5: Style and labels\n",
    "ax.set_theta_offset(np.pi / 2)\n",
    "ax.set_theta_direction(-1)\n",
    "ax.set_thetagrids(np.degrees(angles[:-1]), labels)\n",
    "ax.set_title(\"KMeans Cluster Profiles (Radar Chart)\", fontsize=14)\n",
    "ax.legend(loc='upper right', bbox_to_anchor=(1.3, 1.1))\n",
    "plt.tight_layout()\n",
    "plt.show()"
   ]
  }
 ],
 "metadata": {
  "language_info": {
   "name": "python"
  }
 },
 "nbformat": 4,
 "nbformat_minor": 5
}
