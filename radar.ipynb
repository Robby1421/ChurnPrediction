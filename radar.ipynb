{
 "cells": [
  {
   "cell_type": "code",
   "execution_count": null,
   "id": "92446217",
   "metadata": {
    "vscode": {
     "languageId": "plaintext"
    }
   },
   "outputs": [],
   "source": [
    "# 📦 Step 1: Imports\n",
    "import pandas as pd\n",
    "import numpy as np\n",
    "import matplotlib.pyplot as plt\n",
    "from sklearn.preprocessing import StandardScaler\n",
    "from sklearn.cluster import KMeans\n",
    "\n",
    "# 📥 Step 2: Load your dataset\n",
    "df = pd.read_csv(\"ip_mail_data.csv\")  # Replace with your actual file path\n",
    "\n",
    "# 🧮 Step 3: Feature engineering\n",
    "df['subj_per_mail'] = df['n_proc_subj'] / df['n_mails']\n",
    "df['msgid_per_mail'] = df['n_msg_id'] / df['n_mails']\n",
    "\n",
    "# ⚖️ Step 4: Normalize features for clustering\n",
    "features_for_clustering = ['n_mails', 'n_proc_subj', 'n_msg_id', 'subj_per_mail', 'msgid_per_mail']\n",
    "X = df[features_for_clustering].fillna(0)\n",
    "scaler = StandardScaler()\n",
    "X_scaled = scaler.fit_transform(X)\n",
    "\n",
    "# 📊 Step 5: KMeans clustering\n",
    "kmeans = KMeans(n_clusters=3, random_state=42)\n",
    "df['cluster'] = kmeans.fit_predict(X_scaled)\n",
    "\n",
    "# 🕸️ Step 6: Radar charts using original features only\n",
    "raw_features = ['n_mails', 'n_proc_subj', 'n_msg_id']\n",
    "cluster_means_raw = df.groupby('cluster')[raw_features].mean()\n",
    "normalized_raw = (cluster_means_raw - cluster_means_raw.min()) / (cluster_means_raw.max() - cluster_means_raw.min())\n",
    "\n",
    "labels = raw_features\n",
    "num_vars = len(labels)\n",
    "angles = np.linspace(0, 2 * np.pi, num_vars, endpoint=False).tolist()\n",
    "angles += angles[:1]  # close the loop\n",
    "\n",
    "# 🎨 Step 7: Plot each cluster separately\n",
    "for i, row in normalized_raw.iterrows():\n",
    "    values = row.tolist()\n",
    "    values += values[:1]\n",
    "\n",
    "    fig, ax = plt.subplots(figsize=(6, 6), subplot_kw=dict(polar=True))\n",
    "    ax.plot(angles, values, label=f'Cluster {i}', color='tab:blue')\n",
    "    ax.fill(angles, values, alpha=0.25, color='tab:blue')\n",
    "\n",
    "    ax.set_theta_offset(np.pi / 2)\n",
    "    ax.set_theta_direction(-1)\n",
    "    ax.set_thetagrids(np.degrees(angles[:-1]), labels)\n",
    "    ax.set_title(f\"Radar Chart for Cluster {i} (Raw Features)\", fontsize=14)\n",
    "    ax.legend(loc='upper right')\n",
    "    plt.tight_layout()\n",
    "    plt.show()\n"
   ]
  }
 ],
 "metadata": {
  "language_info": {
   "name": "python"
  }
 },
 "nbformat": 4,
 "nbformat_minor": 5
}
